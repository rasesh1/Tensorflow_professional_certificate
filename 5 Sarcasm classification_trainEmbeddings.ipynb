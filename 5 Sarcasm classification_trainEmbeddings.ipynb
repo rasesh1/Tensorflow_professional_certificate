{
  "nbformat": 4,
  "nbformat_minor": 0,
  "metadata": {
    "accelerator": "GPU",
    "colab": {
      "name": "Course 3 - Week 2 - Lesson 2.ipynb",
      "provenance": [],
      "collapsed_sections": [],
      "toc_visible": true,
      "include_colab_link": true
    },
    "kernelspec": {
      "display_name": "Python 3",
      "name": "python3"
    }
  },
  "cells": [
    {
      "cell_type": "markdown",
      "metadata": {
        "id": "view-in-github",
        "colab_type": "text"
      },
      "source": [
        "<a href=\"https://colab.research.google.com/github/rasesh1/Tensorflow_professional_certificate/blob/master/5%20Sarcasm%20classification_trainEmbeddings.ipynb\" target=\"_parent\"><img src=\"https://colab.research.google.com/assets/colab-badge.svg\" alt=\"Open In Colab\"/></a>"
      ]
    },
    {
      "cell_type": "code",
      "metadata": {
        "id": "zX4Kg8DUTKWO"
      },
      "source": [
        "#@title Licensed under the Apache License, Version 2.0 (the \"License\");\n",
        "# you may not use this file except in compliance with the License.\n",
        "# You may obtain a copy of the License at\n",
        "#\n",
        "# https://www.apache.org/licenses/LICENSE-2.0\n",
        "#\n",
        "# Unless required by applicable law or agreed to in writing, software\n",
        "# distributed under the License is distributed on an \"AS IS\" BASIS,\n",
        "# WITHOUT WARRANTIES OR CONDITIONS OF ANY KIND, either express or implied.\n",
        "# See the License for the specific language governing permissions and\n",
        "# limitations under the License."
      ],
      "execution_count": null,
      "outputs": []
    },
    {
      "cell_type": "markdown",
      "metadata": {
        "id": "view-in-github"
      },
      "source": [
        "<a href=\"https://colab.research.google.com/github/lmoroney/dlaicourse/blob/master/TensorFlow%20In%20Practice/Course%203%20-%20NLP/Course%203%20-%20Week%202%20-%20Lesson%202.ipynb\" target=\"_parent\"><img src=\"https://colab.research.google.com/assets/colab-badge.svg\" alt=\"Open In Colab\"/></a>"
      ]
    },
    {
      "cell_type": "code",
      "metadata": {
        "id": "4gs9htvM7n_x"
      },
      "source": [
        "# Run this to ensure TensorFlow 2.x is used\n",
        "try:\n",
        "  # %tensorflow_version only exists in Colab.\n",
        "  %tensorflow_version 2.x\n",
        "except Exception:\n",
        "  pass"
      ],
      "execution_count": null,
      "outputs": []
    },
    {
      "cell_type": "code",
      "metadata": {
        "id": "XYYDvoskkE61"
      },
      "source": [
        "import json\n",
        "import tensorflow as tf\n",
        "\n",
        "from tensorflow.keras.preprocessing.text import Tokenizer\n",
        "from tensorflow.keras.preprocessing.sequence import pad_sequences"
      ],
      "execution_count": null,
      "outputs": []
    },
    {
      "cell_type": "code",
      "metadata": {
        "id": "0eJSTTYnkJQd"
      },
      "source": [
        "vocab_size = 10000\n",
        "embedding_dim = 16\n",
        "max_length = 100\n",
        "trunc_type='post'\n",
        "padding_type='post'\n",
        "oov_tok = \"<OOV>\"\n",
        "training_size = 20000\n"
      ],
      "execution_count": null,
      "outputs": []
    },
    {
      "cell_type": "code",
      "metadata": {
        "colab": {
          "base_uri": "https://localhost:8080/"
        },
        "id": "BQVuQrZNkPn9",
        "outputId": "c34e8c51-da00-453a-ab03-ca5548959a2a"
      },
      "source": [
        "!wget --no-check-certificate \\\n",
        "    https://storage.googleapis.com/laurencemoroney-blog.appspot.com/sarcasm.json \\\n",
        "    -O /tmp/sarcasm.json\n"
      ],
      "execution_count": null,
      "outputs": [
        {
          "output_type": "stream",
          "text": [
            "--2021-02-27 16:55:59--  https://storage.googleapis.com/laurencemoroney-blog.appspot.com/sarcasm.json\n",
            "Resolving storage.googleapis.com (storage.googleapis.com)... 172.217.7.240, 172.217.13.80, 172.217.13.240, ...\n",
            "Connecting to storage.googleapis.com (storage.googleapis.com)|172.217.7.240|:443... connected.\n",
            "HTTP request sent, awaiting response... 200 OK\n",
            "Length: 5643545 (5.4M) [application/json]\n",
            "Saving to: ‘/tmp/sarcasm.json’\n",
            "\n",
            "\r/tmp/sarcasm.json     0%[                    ]       0  --.-KB/s               \r/tmp/sarcasm.json   100%[===================>]   5.38M  --.-KB/s    in 0.05s   \n",
            "\n",
            "2021-02-27 16:55:59 (107 MB/s) - ‘/tmp/sarcasm.json’ saved [5643545/5643545]\n",
            "\n"
          ],
          "name": "stdout"
        }
      ]
    },
    {
      "cell_type": "code",
      "metadata": {
        "id": "oaLaaqhNkUPd"
      },
      "source": [
        "with open(\"/tmp/sarcasm.json\", 'r') as f:\n",
        "    datastore = json.load(f)\n",
        "\n",
        "sentences = []\n",
        "labels = []\n",
        "\n",
        "for item in datastore:\n",
        "    sentences.append(item['headline'])\n",
        "    labels.append(item['is_sarcastic'])"
      ],
      "execution_count": null,
      "outputs": []
    },
    {
      "cell_type": "code",
      "metadata": {
        "id": "9WTBAfgfbiW-"
      },
      "source": [
        ""
      ],
      "execution_count": null,
      "outputs": []
    },
    {
      "cell_type": "code",
      "metadata": {
        "id": "S1sD-7v0kYWk"
      },
      "source": [
        "training_sentences = sentences[0:training_size]\n",
        "testing_sentences = sentences[training_size:]\n",
        "training_labels = labels[0:training_size]\n",
        "testing_labels = labels[training_size:]"
      ],
      "execution_count": null,
      "outputs": []
    },
    {
      "cell_type": "code",
      "metadata": {
        "id": "3u8UB0MCkZ5N"
      },
      "source": [
        "tokenizer = Tokenizer(num_words=vocab_size, oov_token=oov_tok)\n",
        "tokenizer.fit_on_texts(training_sentences)\n",
        "\n",
        "word_index = tokenizer.word_index\n",
        "\n",
        "training_sequences = tokenizer.texts_to_sequences(training_sentences)\n",
        "training_padded = pad_sequences(training_sequences, maxlen=max_length, padding=padding_type, truncating=trunc_type)\n",
        "\n",
        "testing_sequences = tokenizer.texts_to_sequences(testing_sentences)\n",
        "testing_padded = pad_sequences(testing_sequences, maxlen=max_length, padding=padding_type, truncating=trunc_type)"
      ],
      "execution_count": null,
      "outputs": []
    },
    {
      "cell_type": "code",
      "metadata": {
        "id": "GrAlWBKf99Ya"
      },
      "source": [
        "# Need this block to get it to work with TensorFlow 2.x\n",
        "import numpy as np\n",
        "training_padded = np.array(training_padded)\n",
        "training_labels = np.array(training_labels)\n",
        "testing_padded = np.array(testing_padded)\n",
        "testing_labels = np.array(testing_labels)"
      ],
      "execution_count": null,
      "outputs": []
    },
    {
      "cell_type": "code",
      "metadata": {
        "id": "FufaT4vlkiDE"
      },
      "source": [
        "model = tf.keras.Sequential([\n",
        "    tf.keras.layers.Embedding(vocab_size, embedding_dim, input_length=max_length),\n",
        "    tf.keras.layers.GlobalAveragePooling1D(),\n",
        "    tf.keras.layers.Dense(24, activation='relu'),\n",
        "    tf.keras.layers.Dense(1, activation='sigmoid')\n",
        "])\n",
        "model.compile(loss='binary_crossentropy',optimizer='adam',metrics=['accuracy'])"
      ],
      "execution_count": null,
      "outputs": []
    },
    {
      "cell_type": "code",
      "metadata": {
        "colab": {
          "base_uri": "https://localhost:8080/"
        },
        "id": "XfDt1hmYkiys",
        "outputId": "c85a191e-afde-4a7e-892a-ab861f3bfa42"
      },
      "source": [
        "model.summary()\n"
      ],
      "execution_count": null,
      "outputs": [
        {
          "output_type": "stream",
          "text": [
            "Model: \"sequential\"\n",
            "_________________________________________________________________\n",
            "Layer (type)                 Output Shape              Param #   \n",
            "=================================================================\n",
            "embedding (Embedding)        (None, 100, 16)           160000    \n",
            "_________________________________________________________________\n",
            "global_average_pooling1d (Gl (None, 16)                0         \n",
            "_________________________________________________________________\n",
            "dense (Dense)                (None, 24)                408       \n",
            "_________________________________________________________________\n",
            "dense_1 (Dense)              (None, 1)                 25        \n",
            "=================================================================\n",
            "Total params: 160,433\n",
            "Trainable params: 160,433\n",
            "Non-trainable params: 0\n",
            "_________________________________________________________________\n"
          ],
          "name": "stdout"
        }
      ]
    },
    {
      "cell_type": "code",
      "metadata": {
        "colab": {
          "base_uri": "https://localhost:8080/"
        },
        "id": "2DTKQFf1kkyc",
        "outputId": "8343b043-f478-404a-ad75-4435ffb5902a"
      },
      "source": [
        "num_epochs = 30\n",
        "history = model.fit(training_padded, training_labels, epochs=num_epochs, validation_data=(testing_padded, testing_labels), verbose=2)"
      ],
      "execution_count": null,
      "outputs": [
        {
          "output_type": "stream",
          "text": [
            "Epoch 1/30\n",
            "625/625 - 5s - loss: 0.6741 - accuracy: 0.5649 - val_loss: 0.6283 - val_accuracy: 0.6575\n",
            "Epoch 2/30\n",
            "625/625 - 2s - loss: 0.4824 - accuracy: 0.8104 - val_loss: 0.4199 - val_accuracy: 0.8158\n",
            "Epoch 3/30\n",
            "625/625 - 2s - loss: 0.3364 - accuracy: 0.8665 - val_loss: 0.3639 - val_accuracy: 0.8466\n",
            "Epoch 4/30\n",
            "625/625 - 2s - loss: 0.2807 - accuracy: 0.8911 - val_loss: 0.3553 - val_accuracy: 0.8475\n",
            "Epoch 5/30\n",
            "625/625 - 2s - loss: 0.2457 - accuracy: 0.9051 - val_loss: 0.3455 - val_accuracy: 0.8572\n",
            "Epoch 6/30\n",
            "625/625 - 2s - loss: 0.2173 - accuracy: 0.9168 - val_loss: 0.3544 - val_accuracy: 0.8454\n",
            "Epoch 7/30\n",
            "625/625 - 2s - loss: 0.1947 - accuracy: 0.9277 - val_loss: 0.3505 - val_accuracy: 0.8559\n",
            "Epoch 8/30\n",
            "625/625 - 2s - loss: 0.1756 - accuracy: 0.9344 - val_loss: 0.3591 - val_accuracy: 0.8544\n",
            "Epoch 9/30\n",
            "625/625 - 2s - loss: 0.1596 - accuracy: 0.9421 - val_loss: 0.3682 - val_accuracy: 0.8547\n",
            "Epoch 10/30\n",
            "625/625 - 2s - loss: 0.1471 - accuracy: 0.9454 - val_loss: 0.3895 - val_accuracy: 0.8490\n",
            "Epoch 11/30\n",
            "625/625 - 2s - loss: 0.1361 - accuracy: 0.9520 - val_loss: 0.4167 - val_accuracy: 0.8420\n",
            "Epoch 12/30\n",
            "625/625 - 2s - loss: 0.1229 - accuracy: 0.9582 - val_loss: 0.4134 - val_accuracy: 0.8509\n",
            "Epoch 13/30\n",
            "625/625 - 2s - loss: 0.1135 - accuracy: 0.9616 - val_loss: 0.4341 - val_accuracy: 0.8478\n",
            "Epoch 14/30\n",
            "625/625 - 2s - loss: 0.1060 - accuracy: 0.9643 - val_loss: 0.4507 - val_accuracy: 0.8474\n",
            "Epoch 15/30\n",
            "625/625 - 2s - loss: 0.0967 - accuracy: 0.9679 - val_loss: 0.4714 - val_accuracy: 0.8454\n",
            "Epoch 16/30\n",
            "625/625 - 2s - loss: 0.0911 - accuracy: 0.9700 - val_loss: 0.4974 - val_accuracy: 0.8405\n",
            "Epoch 17/30\n",
            "625/625 - 2s - loss: 0.0854 - accuracy: 0.9714 - val_loss: 0.5349 - val_accuracy: 0.8356\n",
            "Epoch 18/30\n",
            "625/625 - 2s - loss: 0.0774 - accuracy: 0.9749 - val_loss: 0.5566 - val_accuracy: 0.8359\n",
            "Epoch 19/30\n",
            "625/625 - 2s - loss: 0.0728 - accuracy: 0.9778 - val_loss: 0.5698 - val_accuracy: 0.8353\n",
            "Epoch 20/30\n",
            "625/625 - 2s - loss: 0.0682 - accuracy: 0.9779 - val_loss: 0.5914 - val_accuracy: 0.8337\n",
            "Epoch 21/30\n",
            "625/625 - 2s - loss: 0.0627 - accuracy: 0.9815 - val_loss: 0.6431 - val_accuracy: 0.8322\n",
            "Epoch 22/30\n",
            "625/625 - 2s - loss: 0.0583 - accuracy: 0.9819 - val_loss: 0.6667 - val_accuracy: 0.8310\n",
            "Epoch 23/30\n",
            "625/625 - 2s - loss: 0.0544 - accuracy: 0.9833 - val_loss: 0.6966 - val_accuracy: 0.8281\n",
            "Epoch 24/30\n",
            "625/625 - 2s - loss: 0.0510 - accuracy: 0.9855 - val_loss: 0.7287 - val_accuracy: 0.8246\n",
            "Epoch 25/30\n",
            "625/625 - 2s - loss: 0.0467 - accuracy: 0.9866 - val_loss: 0.7492 - val_accuracy: 0.8269\n",
            "Epoch 26/30\n",
            "625/625 - 2s - loss: 0.0433 - accuracy: 0.9875 - val_loss: 0.7904 - val_accuracy: 0.8217\n",
            "Epoch 27/30\n",
            "625/625 - 2s - loss: 0.0412 - accuracy: 0.9880 - val_loss: 0.8435 - val_accuracy: 0.8183\n",
            "Epoch 28/30\n",
            "625/625 - 2s - loss: 0.0389 - accuracy: 0.9893 - val_loss: 0.8299 - val_accuracy: 0.8226\n",
            "Epoch 29/30\n",
            "625/625 - 2s - loss: 0.0361 - accuracy: 0.9899 - val_loss: 0.8742 - val_accuracy: 0.8185\n",
            "Epoch 30/30\n",
            "625/625 - 2s - loss: 0.0330 - accuracy: 0.9911 - val_loss: 0.9062 - val_accuracy: 0.8177\n"
          ],
          "name": "stdout"
        }
      ]
    },
    {
      "cell_type": "code",
      "metadata": {
        "colab": {
          "base_uri": "https://localhost:8080/",
          "height": 541
        },
        "id": "2HYfBKXjkmU8",
        "outputId": "c4707243-f920-4db9-8425-b60d52469741"
      },
      "source": [
        "import matplotlib.pyplot as plt\n",
        "\n",
        "\n",
        "def plot_graphs(history, string):\n",
        "  plt.plot(history.history[string])\n",
        "  plt.plot(history.history['val_'+string])\n",
        "  plt.xlabel(\"Epochs\")\n",
        "  plt.ylabel(string)\n",
        "  plt.legend([string, 'val_'+string])\n",
        "  plt.show()\n",
        "  \n",
        "plot_graphs(history, \"accuracy\")\n",
        "plot_graphs(history, \"loss\")"
      ],
      "execution_count": null,
      "outputs": [
        {
          "output_type": "display_data",
          "data": {
            "image/png": "[encoded data removed]",
            "text/plain": [
              "<Figure size 432x288 with 1 Axes>"
            ]
          },
          "metadata": {
            "tags": [],
            "needs_background": "light"
          }
        },
        {
          "output_type": "display_data",
          "data": {
            "image/png": "[encoded data removed]",
            "text/plain": [
              "<Figure size 432x288 with 1 Axes>"
            ]
          },
          "metadata": {
            "tags": [],
            "needs_background": "light"
          }
        }
      ]
    },
    {
      "cell_type": "code",
      "metadata": {
        "colab": {
          "base_uri": "https://localhost:8080/"
        },
        "id": "7SBdAZAenvzL",
        "outputId": "30022db9-07ae-4d56-f594-b671c92a5a1f"
      },
      "source": [
        "reverse_word_index = dict([(value, key) for (key, value) in word_index.items()])\n",
        "\n",
        "def decode_sentence(text):\n",
        "    return ' '.join([reverse_word_index.get(i, '?') for i in text])\n",
        "\n",
        "print(decode_sentence(training_padded[0]))\n",
        "print(training_sentences[2])\n",
        "print(labels[2])"
      ],
      "execution_count": null,
      "outputs": [
        {
          "output_type": "stream",
          "text": [
            "former <OOV> store clerk sues over secret 'black <OOV> for minority shoppers ? ? ? ? ? ? ? ? ? ? ? ? ? ? ? ? ? ? ? ? ? ? ? ? ? ? ? ? ? ? ? ? ? ? ? ? ? ? ? ? ? ? ? ? ? ? ? ? ? ? ? ? ? ? ? ? ? ? ? ? ? ? ? ? ? ? ? ? ? ? ? ? ? ? ? ? ? ? ? ? ? ? ? ? ? ? ? ?\n",
            "mom starting to fear son's web series closest thing she will have to grandchild\n",
            "1\n"
          ],
          "name": "stdout"
        }
      ]
    },
    {
      "cell_type": "code",
      "metadata": {
        "colab": {
          "base_uri": "https://localhost:8080/"
        },
        "id": "c9MqihtEkzQ9",
        "outputId": "357b6319-cc57-4b8a-d694-c218c321051b"
      },
      "source": [
        "e = model.layers[0]\n",
        "weights = e.get_weights()[0]\n",
        "print(weights.shape) # shape: (vocab_size, embedding_dim)\n"
      ],
      "execution_count": null,
      "outputs": [
        {
          "output_type": "stream",
          "text": [
            "(10000, 16)\n"
          ],
          "name": "stdout"
        }
      ]
    },
    {
      "cell_type": "code",
      "metadata": {
        "id": "LoBXVffknldU"
      },
      "source": [
        "import io\n",
        "\n",
        "out_v = io.open('vecs.tsv', 'w', encoding='utf-8')\n",
        "out_m = io.open('meta.tsv', 'w', encoding='utf-8')\n",
        "for word_num in range(1, vocab_size):\n",
        "  word = reverse_word_index[word_num]\n",
        "  embeddings = weights[word_num]\n",
        "  out_m.write(word + \"\\n\")\n",
        "  out_v.write('\\t'.join([str(x) for x in embeddings]) + \"\\n\")\n",
        "out_v.close()\n",
        "out_m.close()"
      ],
      "execution_count": null,
      "outputs": []
    },
    {
      "cell_type": "code",
      "metadata": {
        "id": "U4eZ5HtVnnEE"
      },
      "source": [
        "try:\n",
        "  from google.colab import files\n",
        "except ImportError:\n",
        "  pass\n",
        "else:\n",
        "  files.download('vecs.tsv')\n",
        "  files.download('meta.tsv')"
      ],
      "execution_count": null,
      "outputs": []
    },
    {
      "cell_type": "code",
      "metadata": {
        "colab": {
          "base_uri": "https://localhost:8080/"
        },
        "id": "cG8-ArY-qDcz",
        "outputId": "e47a5021-2351-4f19-fce2-ea59a63c9221"
      },
      "source": [
        "sentence = [\"granny starting to fear spiders in the garden might be real\", \"game of thrones season finale showing this sunday night\"]\n",
        "sequences = tokenizer.texts_to_sequences(sentence)\n",
        "padded = pad_sequences(sequences, maxlen=max_length, padding=padding_type, truncating=trunc_type)\n",
        "print(model.predict(padded))"
      ],
      "execution_count": null,
      "outputs": [
        {
          "output_type": "stream",
          "text": [
            "[[8.841210e-01]\n",
            " [6.248575e-05]]\n"
          ],
          "name": "stdout"
        }
      ]
    },
    {
      "cell_type": "code",
      "metadata": {
        "id": "Ew9BYPIpa8Ug"
      },
      "source": [
        ""
      ],
      "execution_count": null,
      "outputs": []
    }
  ]
}